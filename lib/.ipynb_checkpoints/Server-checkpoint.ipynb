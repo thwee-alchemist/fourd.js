{
 "cells": [
  {
   "cell_type": "code",
   "execution_count": 2,
   "metadata": {},
   "outputs": [
    {
     "name": "stdout",
     "output_type": "stream",
     "text": [
      "http://localhost:64495/\n"
     ]
    }
   ],
   "source": [
    "var express = require('express');\n",
    "var app = express();\n",
    "var getPort = require('get-port');\n",
    "//var path = require('path');\n",
    "\n",
    "app.use(express.static(__dirname));\n",
    "\n",
    "/*\n",
    "app.get('/', (req, res) => {\n",
    "    res.sendFile('./index.html');\n",
    "    console.log('/.');\n",
    "});\n",
    "*/\n",
    "\n",
    "getPort({port: 16025}).then((port) => {\n",
    "    app.listen(port);\n",
    "    console.log(`http://localhost:${port}/`);\n",
    "});"
   ]
  },
  {
   "cell_type": "code",
   "execution_count": null,
   "metadata": {},
   "outputs": [],
   "source": []
  },
  {
   "cell_type": "code",
   "execution_count": null,
   "metadata": {},
   "outputs": [],
   "source": []
  }
 ],
 "metadata": {
  "kernelspec": {
   "display_name": "Javascript (Node.js)",
   "language": "javascript",
   "name": "javascript"
  },
  "language_info": {
   "file_extension": ".js",
   "mimetype": "application/javascript",
   "name": "javascript",
   "version": "8.9.4"
  }
 },
 "nbformat": 4,
 "nbformat_minor": 2
}
