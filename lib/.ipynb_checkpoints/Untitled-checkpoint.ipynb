{
 "cells": [
  {
   "cell_type": "code",
   "execution_count": 3,
   "metadata": {},
   "outputs": [
    {
     "name": "stdout",
     "output_type": "stream",
     "text": [
      "http://localhost:63029/\n"
     ]
    },
    {
     "name": "stderr",
     "output_type": "stream",
     "text": [
      "TypeError: Path must be a string. Received undefined\n",
      "    at assertPath (path.js:28:11)\n",
      "    at Object.dirname (path.js:725:5)\n",
      "    at app.get (evalmachine.<anonymous>:9:23)\n",
      "    at Layer.handle [as handle_request] (C:\\Users\\Joshua\\fourd.js\\node_modules\\express\\lib\\router\\layer.js:95:5)\n",
      "    at next (C:\\Users\\Joshua\\fourd.js\\node_modules\\express\\lib\\router\\route.js:137:13)\n",
      "    at Route.dispatch (C:\\Users\\Joshua\\fourd.js\\node_modules\\express\\lib\\router\\route.js:112:3)\n",
      "    at Layer.handle [as handle_request] (C:\\Users\\Joshua\\fourd.js\\node_modules\\express\\lib\\router\\layer.js:95:5)\n",
      "    at C:\\Users\\Joshua\\fourd.js\\node_modules\\express\\lib\\router\\index.js:281:22\n",
      "    at Function.process_params (C:\\Users\\Joshua\\fourd.js\\node_modules\\express\\lib\\router\\index.js:335:12)\n",
      "    at next (C:\\Users\\Joshua\\fourd.js\\node_modules\\express\\lib\\router\\index.js:275:10)\n"
     ]
    }
   ],
   "source": [
    "var express = require('express');\n",
    "var app = express();\n",
    "var getPort = require('get-port');\n",
    "var path = require('path');\n",
    "\n",
    "app.use(express.static(__dirname));\n",
    "\n",
    "app.get('/', (req, res) => {\n",
    "    res.sendFile('./jquery.fourd.js.html');\n",
    "    console.log('/');\n",
    "});\n",
    "\n",
    "getPort().then((port) => {\n",
    "    app.listen(port);\n",
    "    console.log(`http://localhost:${port}/`);\n",
    "});"
   ]
  },
  {
   "cell_type": "code",
   "execution_count": 2,
   "metadata": {},
   "outputs": [
    {
     "data": {
      "text/plain": [
       "'.'"
      ]
     },
     "execution_count": 2,
     "metadata": {},
     "output_type": "execute_result"
    }
   ],
   "source": [
    "__dirname"
   ]
  },
  {
   "cell_type": "code",
   "execution_count": null,
   "metadata": {},
   "outputs": [],
   "source": []
  }
 ],
 "metadata": {
  "kernelspec": {
   "display_name": "Javascript (Node.js)",
   "language": "javascript",
   "name": "javascript"
  },
  "language_info": {
   "file_extension": ".js",
   "mimetype": "application/javascript",
   "name": "javascript",
   "version": "8.9.4"
  }
 },
 "nbformat": 4,
 "nbformat_minor": 2
}
