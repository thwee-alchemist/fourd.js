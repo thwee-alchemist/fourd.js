{
 "cells": [
  {
   "cell_type": "code",
   "execution_count": 9,
   "metadata": {},
   "outputs": [],
   "source": [
    "from IPython.core.display import display, HTML"
   ]
  },
  {
   "cell_type": "code",
   "execution_count": 28,
   "metadata": {},
   "outputs": [],
   "source": [
    "html = \"\"\"\n",
    "<!DOCTYPE html>\n",
    "<html>\n",
    "<head>\n",
    "<title>Test</title>\n",
    "</head>\n",
    "<body style=\"overflow: hidden\">\n",
    "<h1>test</h1>\n",
    "<div id=\"display\" style=\"width: 500px; height: 300px; border: 1px solid black;\"></div>\n",
    "<script src=\"./r90.three.min.js\"></script>\n",
    "<script src=\"./OrbitControls.js\"></script>\n",
    "<script src=\"./jquery-1.11.3.min.js\"></script>\n",
    "<script src=\"fourd.js\"></script>\n",
    "<script>\n",
    "    fourd = new FourD();\n",
    "    fourd.init('#display', {\n",
    "        width: 500, \n",
    "        height: 300\n",
    "    });\n",
    "    \n",
    "    for(var i=0; i<1000; i++){\n",
    "        fourd.add_certex({\n",
    "          size: 10,\n",
    "          color: 0x00000,\n",
    "          wireframe: true\n",
    "        });\n",
    "    }\n",
    "    \n",
    "</script>\n",
    "</body>\n",
    "</hmtl>\n",
    "\"\"\""
   ]
  },
  {
   "cell_type": "code",
   "execution_count": 30,
   "metadata": {},
   "outputs": [
    {
     "data": {
      "text/html": [
       "\n",
       "<!DOCTYPE html>\n",
       "<html>\n",
       "<head>\n",
       "<title>Test</title>\n",
       "</head>\n",
       "<body style=\"overflow: hidden\">\n",
       "<h1>test</h1>\n",
       "<div id=\"display\" style=\"width: 500px; height: 300px; border: 1px solid black;\"></div>\n",
       "<script src=\"./r90.three.min.js\"></script>\n",
       "<script src=\"./OrbitControls.js\"></script>\n",
       "<script src=\"./jquery-1.11.3.min.js\"></script>\n",
       "<script src=\"fourd.js\"></script>\n",
       "<script>\n",
       "    fourd = new FourD();\n",
       "    fourd.init('#display', {\n",
       "        width: 500, \n",
       "        height: 300\n",
       "    });\n",
       "    \n",
       "    for(var i=0; i<1000; i++){\n",
       "        fourd.add_certex({\n",
       "          size: 10,\n",
       "          color: 0x00000,\n",
       "          wireframe: true\n",
       "        });\n",
       "    }\n",
       "    \n",
       "</script>\n",
       "</body>\n",
       "</hmtl>\n"
      ],
      "text/plain": [
       "<IPython.core.display.HTML object>"
      ]
     },
     "metadata": {},
     "output_type": "display_data"
    }
   ],
   "source": [
    "display(HTML(html))"
   ]
  },
  {
   "cell_type": "code",
   "execution_count": 15,
   "metadata": {},
   "outputs": [
    {
     "data": {
      "text/html": [
       "<h1>Hello, world!</h1>"
      ],
      "text/plain": [
       "<IPython.core.display.HTML object>"
      ]
     },
     "metadata": {},
     "output_type": "display_data"
    }
   ],
   "source": [
    "from IPython.core.display import display, HTML\n",
    "display(HTML('<h1>Hello, world!</h1>'))"
   ]
  },
  {
   "cell_type": "code",
   "execution_count": null,
   "metadata": {},
   "outputs": [],
   "source": []
  }
 ],
 "metadata": {
  "kernelspec": {
   "display_name": "Python 3",
   "language": "python",
   "name": "python3"
  },
  "language_info": {
   "codemirror_mode": {
    "name": "ipython",
    "version": 3
   },
   "file_extension": ".py",
   "mimetype": "text/x-python",
   "name": "python",
   "nbconvert_exporter": "python",
   "pygments_lexer": "ipython3",
   "version": "3.6.4"
  }
 },
 "nbformat": 4,
 "nbformat_minor": 2
}
