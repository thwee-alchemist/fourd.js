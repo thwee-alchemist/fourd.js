{
 "cells": [
  {
   "cell_type": "code",
   "execution_count": 5,
   "metadata": {},
   "outputs": [
    {
     "data": {
      "text/html": [
       "\n",
       "    <script>\n",
       "    var time = new Date();\n",
       "\n",
       "    var render = function(){\n",
       "        var now = new Date();\n",
       "        if((now - time) >= 1000){\n",
       "            console.log(\"Second\");\n",
       "        }\n",
       "    }\n",
       "\n",
       "    requestAnimationFrame(render);\n",
       "    </script>\n"
      ],
      "text/plain": [
       "<IPython.core.display.HTML object>"
      ]
     },
     "metadata": {},
     "output_type": "display_data"
    }
   ],
   "source": [
    "from IPython.core.display import display, HTML\n",
    "display(HTML('''\n",
    "    <script>\n",
    "    var time = new Date();\n",
    "\n",
    "    var render = function(){\n",
    "        var now = new Date();\n",
    "        if((now - time) >= 1000){\n",
    "            console.log(\"Second\");\n",
    "        }\n",
    "    }\n",
    "\n",
    "    requestAnimationFrame(render);\n",
    "    </script>\n",
    "'''))"
   ]
  }
 ],
 "metadata": {
  "kernelspec": {
   "display_name": "Python 3",
   "language": "python",
   "name": "python3"
  },
  "language_info": {
   "codemirror_mode": {
    "name": "ipython",
    "version": 3
   },
   "file_extension": ".py",
   "mimetype": "text/x-python",
   "name": "python",
   "nbconvert_exporter": "python",
   "pygments_lexer": "ipython3",
   "version": "3.6.4"
  }
 },
 "nbformat": 4,
 "nbformat_minor": 2
}
