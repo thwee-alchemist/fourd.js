{
 "cells": [
  {
   "cell_type": "markdown",
   "metadata": {
    "colab_type": "text",
    "id": "DcsP4ZUXtx0h"
   },
   "source": [
    "# FourD.js\n",
    "[Joshua Marshall Moore](thwee.abacadabra.alchemist@gmail.com)\n",
    "2017-11-18 CE\n",
    "\n",
    "This notebook goes over FourD.js, offering small changes in the process, before I determine what can be ripped out and written more efficiently. "
   ]
  },
  {
   "cell_type": "markdown",
   "metadata": {
    "colab_type": "text",
    "id": "StxkPIPtwv-X"
   },
   "source": [
    "## General Usage\n",
    "This comment should describe general usage for the FourD class. "
   ]
  },
  {
   "cell_type": "code",
   "execution_count": null,
   "metadata": {
    "colab": {
     "autoexec": {
      "startup": false,
      "wait_interval": 0
     }
    },
    "colab_type": "code",
    "id": "vi8Zd0c7tx0n"
   },
   "outputs": [],
   "source": [
    "'use strict';\n",
    "/*\n",
    " four-d.js\n",
    " Joshua M. Moore\n",
    " April 23, 2015\n",
    "\n",
    " depends on: mrdoob's three.js, rev66\n",
    " https://github.com/mrdoob/three.js/tree/r66\n",
    " tested with r66\n",
    " \n",
    " This is semantic version v0.1.0.\n",
    " See http://semver.org/\n",
    " \n",
    " The API works as follows:\n",
    " Every function or code block marked api is part of the API.\n",
    " \n",
    " Here's how it works:\n",
    " \n",
    " var fourd = new FourD(); // instantiation\n",
    " fourd.init('#selector', {width: 600, height: 350}); // initialization\n",
    " \n",
    " \n",
    " var vertex_options = {\n",
    "   width: 5, // pixels\n",
    "   height: 5,\n",
    "   depth: 5,\n",
    "   color: 0x000000 // hex color\n",
    " };\n",
    " \n",
    " var vertex_options = {\n",
    "   cube: {\n",
    "     size: 5,\n",
    "     color: 0x000000 // or: texture: 'path_to.png'\n",
    "   },\n",
    "   label: {\n",
    "     text: \"Hello, WOrlds\"\n",
    "   }\n",
    " }\n",
    " \n",
    " // or:\n",
    " \n",
    " var vertex_options = {\n",
    "   width: 5,\n",
    "   height: 5,\n",
    "   depth: 5,\n",
    "   texture: 'path_to,png'\n",
    " }\n",
    " \n",
    " // or:\n",
    " \n",
    " // leave out vertex options altogether.\n",
    " // default values will be used.\n",
    " \n",
    " \n",
    " var vertex1 = fourd.graph.add_vertex(vertex_options); // add a vertex\n",
    " var vertex2 = fourd.graph.add_vertex(vertex_options); // add another vertex\n",
    " \n",
    " var edge_options = {}; // currently not defined, but this is how you would pass them.\n",
    " \n",
    " var edge = fourd.graph.add_edge(vertex1, vertex2, edge_options);\n",
    " \n",
    " fourd.graph.remove_edge(edge); // this is why you keep those variables\n",
    " fourd.graph.remove_vertex(vertex1);\n",
    " fourd.graph.remove_vertex(vertex2);\n",
    " \n",
    "*/"
   ]
  },
  {
   "cell_type": "markdown",
   "metadata": {
    "colab_type": "text",
    "id": "sc3Eg-E6tx03"
   },
   "source": [
    "We'll see..."
   ]
  },
  {
   "cell_type": "markdown",
   "metadata": {
    "colab_type": "text",
    "id": "T-O7-cVbtx08"
   },
   "source": [
    "It helps to break up the following code into chunks. Unfortunately, I wrapped everything in a FourD function."
   ]
  },
  {
   "cell_type": "code",
   "execution_count": null,
   "metadata": {
    "colab": {
     "autoexec": {
      "startup": false,
      "wait_interval": 0
     }
    },
    "colab_type": "code",
    "id": "9PjYQvDitx1A"
   },
   "outputs": [],
   "source": [
    "var FourD = function(){"
   ]
  },
  {
   "cell_type": "markdown",
   "metadata": {
    "colab_type": "text",
    "id": "PRhv6wO4tx1L"
   },
   "source": [
    "FourD is a four dimensional graph visualization. Why four dimensional, you ask? Because because of its dynamic property, you can undo and redo steps if you apply the right pattern. Don't quiz me on Design Patterns right now, though. It's been nearly a decade, and a million things have happened since. "
   ]
  },
  {
   "cell_type": "code",
   "execution_count": null,
   "metadata": {
    "colab": {
     "autoexec": {
      "startup": false,
      "wait_interval": 0
     }
    },
    "colab_type": "code",
    "id": "yLEiddn6tx1P"
   },
   "outputs": [],
   "source": [
    "  var that = this;"
   ]
  },
  {
   "cell_type": "markdown",
   "metadata": {
    "colab_type": "text",
    "id": "AAztRbiAtx1Z"
   },
   "source": [
    "This trick allows functions defined later on in the code to access properties and functions defined in FourD scope. "
   ]
  },
  {
   "cell_type": "code",
   "execution_count": null,
   "metadata": {
    "colab": {
     "autoexec": {
      "startup": false,
      "wait_interval": 0
     }
    },
    "colab_type": "code",
    "id": "xDZc8V7Rtx1b"
   },
   "outputs": [],
   "source": [
    "  var CONSTANTS = {\n",
    "    width: 1000,\n",
    "    attraction: 0.025,\n",
    "    far: 1000,\n",
    "    optimal_distance: 1.0,\n",
    "    minimum_velocity: 0.001,\n",
    "    friction: 0.60,\n",
    "    zoom: -50,\n",
    "\n",
    "    gravity: 0.070,\n",
    "\n",
    "    rangeMinIn: -1.0,\n",
    "    rangeMaxIn: 1.0,\n",
    "    rangeMinOut: -10,\n",
    "    rangeMaxOut: 10,\n",
    "\n",
    "    BHN3: {\n",
    "      inner_distance: 0.036,\n",
    "      repulsion: 100.0,\n",
    "      epsilon: 0.1\n",
    "    }\n",
    "  };\n",
    "  "
   ]
  },
  {
   "cell_type": "markdown",
   "metadata": {
    "colab_type": "text",
    "id": "6jSV90TNtx1k"
   },
   "source": [
    "## The Vertex Class\n",
    "I wonder whether the genetic algorithm I've been playing with could be used to vary the variables in this simulation. Gravity is useless by the way, just a pipedream for now. I know it's 9.81 m/s^2, but I don't know how to translate that into the acceleration function. Perhaps if I had a list of Factors influencing each Attribute. An example of a Factor would be gravity on acceleration. I guess it wouldn't matter if the camera was in free fall. These variables have been carefully tested to work on my machine. "
   ]
  },
  {
   "cell_type": "code",
   "execution_count": null,
   "metadata": {
    "colab": {
     "autoexec": {
      "startup": false,
      "wait_interval": 0
     }
    },
    "colab_type": "code",
    "id": "zk86iKBItx1p"
   },
   "outputs": [],
   "source": [
    "  var is_vertex = function(potential){\n",
    "    return potential.hasOwnProperty('id') && \n",
    "      potential.hasOwnProperty('edge_count') && \n",
    "      potential.hasOwnProperty('edges');\n",
    "  };"
   ]
  },
  {
   "cell_type": "markdown",
   "metadata": {
    "colab_type": "text",
    "id": "C3Sk0gILtx1z"
   },
   "source": [
    "I don't think I've ever used this function. A quick search should reveal that: I was wrong. Even though this function looks kinda convoluted, it looks like I use it to make sure the vertex has the necessary attributes to be used in the rest of the graph. I guess this could be useful in order to facilitate interoperability with other vertices, which makes this function sort of an interface, or a contract. "
   ]
  },
  {
   "cell_type": "code",
   "execution_count": null,
   "metadata": {
    "colab": {
     "autoexec": {
      "startup": false,
      "wait_interval": 0
     }
    },
    "colab_type": "code",
    "id": "GDyczSVStx14"
   },
   "outputs": [],
   "source": [
    "  /* \n",
    "    Vertex\n",
    "    \n",
    "    Creates a vertex which can be passed to Graph. \n",
    "    setting a label property in the options parameter can allow\n",
    "    for a label to be drawn above or below a vertex. \n",
    "    \n",
    "    Options:\n",
    "    - invisible\n",
    "    - see cube\n",
    "    - see label\n",
    "    \n",
    "  */"
   ]
  },
  {
   "cell_type": "markdown",
   "metadata": {
    "colab_type": "text",
    "id": "i2gsEJC3tx2B"
   },
   "source": [
    "That's just poor documentation. I'll work on something better. "
   ]
  },
  {
   "cell_type": "code",
   "execution_count": null,
   "metadata": {
    "colab": {
     "autoexec": {
      "startup": false,
      "wait_interval": 0
     }
    },
    "colab_type": "code",
    "id": "MDQUeAbCtx2F"
   },
   "outputs": [],
   "source": [
    "  var Vertex = function(id, options){\n",
    "    this.options = options;\n",
    "    this.id = id;\n",
    "    \n",
    "    this.position = new THREE.Vector3(0, 0, 0);\n",
    "    this.velocity = new THREE.Vector3(0, 0, 0);\n",
    "    this.acceleration = new THREE.Vector3(0, 0, 0);\n",
    "    \n",
    "    this.toString = function(){\n",
    "      return this.id.toString();\n",
    "    };\n",
    "\n",
    "    this.edge_count = 0;\n",
    "    this.edges = {};\n",
    "    this.neighbors = [];\n",
    "    \n",
    "    if(!this.options.hasOwnProperty('label')){\n",
    "      this.options.label = {\n",
    "        text: '',\n",
    "        paint: false,\n",
    "        direction: 'x',\n",
    "        distance: '10'\n",
    "      };\n",
    "    };\n",
    "  };"
   ]
  },
  {
   "cell_type": "markdown",
   "metadata": {
    "colab_type": "text",
    "id": "Mf-c-j5Ktx2P"
   },
   "source": [
    "The Vertex is a busy class. It keeps track of its own position, velocity, and acceleration. The toString method looks well intentioned, and was probably useful for small outputs, but doesn't belong here. Instead, a collection of historical data would probably work. "
   ]
  },
  {
   "cell_type": "code",
   "execution_count": null,
   "metadata": {
    "colab": {
     "autoexec": {
      "startup": false,
      "wait_interval": 0
     }
    },
    "colab_type": "code",
    "id": "TB19lpSktx2T"
   },
   "outputs": [],
   "source": [
    "  var getPicture = function(message){\n",
    "    var canvas = document.createElement('canvas');\n",
    "    var context = canvas.getContext('2d');\n",
    "    var fontSize = 24;\n",
    "    context.font = fontSize + \"px Times New Roman\";\n",
    "    var measurements = context.measureText(message);\n",
    "    //canvas.width = measurements.width + 10;\n",
    "    //canvas.height = fontSize + 2;\n",
    "    context.width = context.height = measurements.width + 10;\n",
    "    context.fillText(message, 0, fontSize);\n",
    "    \n",
    "    return canvas;\n",
    "  };"
   ]
  },
  {
   "cell_type": "markdown",
   "metadata": {
    "colab_type": "text",
    "id": "uKH8DOootx2f"
   },
   "source": [
    "This function is used for the label functionality, as ill as it came out of my little bit forge. It's a neat little application of the HTML5 canvas, which can be used to create data urls which in turn feed src attributes. "
   ]
  },
  {
   "cell_type": "code",
   "execution_count": null,
   "metadata": {
    "colab": {
     "autoexec": {
      "startup": false,
      "wait_interval": 0
     }
    },
    "colab_type": "code",
    "id": "ywxiVJuRtx2h"
   },
   "outputs": [],
   "source": [
    "  var getLabel = function(message){\n",
    "    var texture = new THREE.Texture(getPicture(message));\n",
    "    texture.minFilter = THREE.LinearFilter;\n",
    "    texture.needsUpdate = true;\n",
    "    var spriteMaterial = new THREE.SpriteMaterial({map: texture});\n",
    "    var sprite = new THREE.Sprite(spriteMaterial);\n",
    "    return sprite;\n",
    "  };"
   ]
  },
  {
   "cell_type": "markdown",
   "metadata": {
    "colab_type": "text",
    "id": "Am3JP72gtx2r"
   },
   "source": [
    "The getLabel function returns a sprite, which should be an Object3D if I'm not mistaken. That means I was able to use it instead of a cube. "
   ]
  },
  {
   "cell_type": "markdown",
   "metadata": {
    "colab_type": "text",
    "id": "cGFXjPI_tx2u"
   },
   "source": [
    "## The Label Class \n",
    "The getLabel function should be called `Label`, plain and simple. like `Cube`. It's a sibling in ThreeJS's hierarchy. Or at least I'm trying to use it as such. "
   ]
  },
  {
   "cell_type": "code",
   "execution_count": null,
   "metadata": {
    "colab": {
     "autoexec": {
      "startup": false,
      "wait_interval": 0
     }
    },
    "colab_type": "code",
    "id": "7NbpbqJztx2x"
   },
   "outputs": [],
   "source": [
    "  var Label = function(options){\n",
    "    var texture = new THREE.Texture(getPicture(text));\n",
    "    texture.minFilter = THREE.LinearFilter; // ?\n",
    "    texture.needsUpdate = true;\n",
    "    var material = new THREE.SpriteMaterial({map: texture});\n",
    "    var sprite = new THREE.Sprite(material);\n",
    "    return sprite;\n",
    "  }"
   ]
  },
  {
   "cell_type": "markdown",
   "metadata": {
    "colab_type": "text",
    "id": "3Ibp0pkutx2-"
   },
   "source": [
    "This should look similar to the Cube function. Let's explore: "
   ]
  },
  {
   "cell_type": "code",
   "execution_count": null,
   "metadata": {
    "colab_type": "text",
    "id": "2hA4pLEFtx3A"
   },
   "outputs": [],
   "source": [
    "  Vertex.prototype.paint = function(scene){\n",
    "    this.object = getLabel('HELLO, WORLDS!');\n",
    "    scene.add(this.object);\n",
    "  };"
   ]
  },
  {
   "cell_type": "markdown",
   "metadata": {
    "colab_type": "text",
    "id": "Q7pPWjLktx3E"
   },
   "source": [
    "This function is obviously still a leftover from the days of the Label Experiments. They were semisuccessful, the closest I have come to labels yet, completely useless without object picking and effective camera control. This paint function could use an option to decide whether to draw a cube or a label. "
   ]
  },
  {
   "cell_type": "code",
   "execution_count": null,
   "metadata": {
    "colab": {
     "autoexec": {
      "startup": false,
      "wait_interval": 0
     }
    },
    "colab_type": "code",
    "id": "r-NkLHNEtx3G"
   },
   "outputs": [],
   "source": [
    "  Vertex.prototype.paint = function(scene){\n",
    "    if(this.options.cube){\n",
    "      this.object = new Cube(this.options);\n",
    "    }else if(this.options.label){\n",
    "      this.object = new Label(this.options);\n",
    "    }\n",
    "    scene.add(this.object);\n",
    "  }"
   ]
  },
  {
   "cell_type": "markdown",
   "metadata": {
    "colab_type": "text",
    "id": "aeR2AoyMtx3N"
   },
   "source": [
    "This is a slightly revised version of `Vertex.prototype.paint(scene)` that distinguishes between a cube and a label. Not perfect but perhaps one day I'll get something like this to work: "
   ]
  },
  {
   "cell_type": "markdown",
   "metadata": {
    "colab_type": "text",
    "id": "ccM2t2mvtx3O"
   },
   "source": [
    "I found the following code snippet on the three js documentation website: "
   ]
  },
  {
   "cell_type": "code",
   "execution_count": null,
   "metadata": {
    "colab": {
     "autoexec": {
      "startup": false,
      "wait_interval": 0
     }
    },
    "colab_type": "code",
    "id": "EQLPilyRtx3Q"
   },
   "outputs": [],
   "source": [
    "var geometry = new THREE.BoxBufferGeometry( 1, 1, 1 );\n",
    "var material = new THREE.MeshBasicMaterial( {color: 0x00ff00} );\n",
    "\n",
    "var cubeA = new THREE.Mesh( geometry, material );\n",
    "cubeA.position.set( 100, 100, 0 );\n",
    "\n",
    "var cubeB = new THREE.Mesh( geometry, material );\n",
    "cubeB.position.set( -100, -100, 0 );\n",
    "\n",
    "//create a group and add the two cubes\n",
    "//These cubes can now be rotated / scaled etc as a group\n",
    "var group = new THREE.Group();\n",
    "group.add( cubeA );\n",
    "group.add( cubeB );\n",
    "\n",
    "scene.add( group );"
   ]
  },
  {
   "cell_type": "code",
   "execution_count": null,
   "metadata": {
    "colab": {
     "autoexec": {
      "startup": false,
      "wait_interval": 0
     }
    },
    "colab_type": "code",
    "id": "eWWFuB6Qtx3Z"
   },
   "outputs": [],
   "source": [
    "  Vertex.prototype.paint = function(scene){\n",
    "    this.object = new THREE.Group();\n",
    "    \n",
    "    if(this.options.cube){\n",
    "      var cube = new Cube(this.options.cube);\n",
    "      cube.position.set(0, 0, 0);\n",
    "      this.object.add(cube);\n",
    "    }\n",
    "    if(this.options.label){\n",
    "      var label = new Label(this.options.label);\n",
    "      label.position.set(0, this.options.cube ? this.options.cube.size*1.25 : 0, 0);\n",
    "      this.object.add(cube);\n",
    "    }\n",
    "      \n",
    "    scene.add(this.object);\n",
    "  }\n",
    "  \n",
    "  // theoreitcally, this should work. "
   ]
  },
  {
   "cell_type": "markdown",
   "metadata": {
    "colab_type": "text",
    "id": "20UxqcBUtx3j"
   },
   "source": [
    "This function should be able to group two objects, a mesh and a sprite into one group to be manipulated as one, and display them on the screen. The syntax is as follows:\n",
    "`graph.add_vertex({cube: {size: 5, texture: src_or_data}, label: {text: 'Hello, Worlds!'}}`. This only requires text to be implemented, it's currently called message from earlier experiments. __TODO__"
   ]
  },
  {
   "cell_type": "code",
   "execution_count": null,
   "metadata": {
    "colab": {
     "autoexec": {
      "startup": false,
      "wait_interval": 0
     }
    },
    "colab_type": "code",
    "id": "mgpTCcTEtx3m"
   },
   "outputs": [],
   "source": [
    "  /* \n",
    "    Vertex.remove(...) \n",
    "    removes either a label: Vertex.remove('label'),\n",
    "    or the vertex's cube: Vertex.remove('cube').\n",
    "  */ \n",
    "  Vertex.prototype.remove = function(name){\n",
    "    this.object.remove(name)\n",
    "  }"
   ]
  },
  {
   "cell_type": "markdown",
   "metadata": {
    "colab_type": "text",
    "id": "jHhW0wGqtx3u"
   },
   "source": [
    "It should be noted that the above function merely removes the object3d from the scene, and should hence be called in conjunction with the `Graph.remove_vertex(...)` function. "
   ]
  },
  {
   "cell_type": "markdown",
   "metadata": {
    "colab_type": "text",
    "id": "EDqtuWfbug5w"
   },
   "source": [
    "## The Edge Class\n",
    "The edge class is repsonsible for connecting two vertices, and holds a source and a target vertex. "
   ]
  },
  {
   "cell_type": "code",
   "execution_count": null,
   "metadata": {
    "colab": {
     "autoexec": {
      "startup": false,
      "wait_interval": 0
     }
    },
    "colab_type": "code",
    "id": "L9TyGHZitx3x"
   },
   "outputs": [],
   "source": [
    "  // Edge\n",
    "  var Edge = function(id, source, target, options){\n",
    "    this.options = options === undefined ? {strength: 1.0} : options;\n",
    "    \n",
    "    if(arguments.length < 3){\n",
    "      throw new Error('Edge without sufficent arguments');\n",
    "    }\n",
    "\n",
    "    if(!is_vertex(source)){\n",
    "      var source_type = typeof source;\n",
    "      var source_error_msg = 'Source should be a Vertex instead of a ' + src_type + '.';\n",
    "      throw new Error(src_error_msg);\n",
    "    }\n",
    "\n",
    "    if(!is_vertex(target)){\n",
    "      var target_type = typeof target;\n",
    "      var target_error_msg = 'Target should be a Vertex instead of a ' + tgt_type + '.';\n",
    "      throw new Error(tgt_error_msg);\n",
    "    }\n",
    "\n",
    "    this.id = id;\n",
    "    if(this.options.hasOwnProperty('directed')){\n",
    "      this.gravity = true;\n",
    "    }\n",
    "\n",
    "    this.source = source;\n",
    "    this.target = target;\n",
    "\n",
    "    this.source.edge_count += 1;\n",
    "    this.target.edge_count += 1;\n",
    "\n",
    "    this.source.edges[this.id] = this;\n",
    "    this.target.edges[this.id] = this;\n",
    "\n",
    "    this.order = Math.random();\n",
    "  };"
   ]
  },
  {
   "cell_type": "markdown",
   "metadata": {
    "colab_type": "text",
    "id": "9-Tdrptwtx37"
   },
   "source": [
    "The edge holds options. It's unclear as of right now whether strength actually has an effect on the rest of the code. This is one of those things a graph of code might be able to reveal at a glance. At a minimum, however, an edge consists of a source and a target vertex, and a random order that is used in the Barnes Hut Tree as a sorting property to get things started. The edge also registers itself with the source and target node via its own id, assigned through the constructor. This could probably be achieved statically. "
   ]
  },
  {
   "cell_type": "code",
   "execution_count": null,
   "metadata": {
    "colab": {
     "autoexec": {
      "startup": false,
      "wait_interval": 0
     }
    },
    "colab_type": "code",
    "id": "A2ZRg0nctx3-"
   },
   "outputs": [],
   "source": [
    "  Edge.prototype.paint = function(scene){\n",
    "    this.object = line(scene, this.source, this.target, this.options);\n",
    "  };"
   ]
  },
  {
   "cell_type": "markdown",
   "metadata": {
    "colab_type": "text",
    "id": "5ER80ftUtx4J"
   },
   "source": [
    "Nothing to change here. I pass the options on to the paint function, where they may or may not get used. "
   ]
  },
  {
   "cell_type": "code",
   "execution_count": null,
   "metadata": {
    "colab": {
     "autoexec": {
      "startup": false,
      "wait_interval": 0
     }
    },
    "colab_type": "code",
    "id": "8MhN8JJ-tx4O"
   },
   "outputs": [],
   "source": [
    "  Edge.prototype.toString = function(){\n",
    "    return this.source.toString() + '-->' + this.target.toString(); \n",
    "  };"
   ]
  },
  {
   "cell_type": "markdown",
   "metadata": {
    "colab_type": "text",
    "id": "0bekXqB5tx4Y"
   },
   "source": [
    "Again, I don't know whether these toString functions get used in actual code. I don't think I've ever used them, but I'll keep them around for debugging. "
   ]
  },
  {
   "cell_type": "code",
   "execution_count": null,
   "metadata": {
    "colab": {
     "autoexec": {
      "startup": false,
      "wait_interval": 0
     }
    },
    "colab_type": "code",
    "id": "HO9OlgSgtx4Z"
   },
   "outputs": [],
   "source": [
    "  Edge.prototype.destroy = function(scene){\n",
    "    delete this.source.edges[this.id];\n",
    "    delete this.target.edges[this.id];\n",
    "\n",
    "    CONSTANTS.scene.remove(this.object);\n",
    "    delete this.object;\n",
    "    \n",
    "    this.source.edge_count--;\n",
    "    this.target.edge_count--;\n",
    "  };"
   ]
  },
  {
   "cell_type": "markdown",
   "metadata": {
    "colab_type": "text",
    "id": "Jnp2vV5ltx4e"
   },
   "source": [
    "This destroy function was carefully crafted to be run in the graph's clear function. It unregisters itself from its source and target vertices, and undraws itself from the scene. "
   ]
  },
  {
   "cell_type": "markdown",
   "metadata": {
    "colab_type": "text",
    "id": "s7zdUPARuw7E"
   },
   "source": [
    "## The Graph\n",
    "The graph holds vertices and edges, and is responsible for their proper addition and removal. "
   ]
  },
  {
   "cell_type": "code",
   "execution_count": null,
   "metadata": {
    "colab": {
     "autoexec": {
      "startup": false,
      "wait_interval": 0
     }
    },
    "colab_type": "code",
    "id": "fB4yed48tx4j"
   },
   "outputs": [],
   "source": [
    "  // Graph\n",
    "  var Graph = function(scene){\n",
    "    this.scene = scene;\n",
    "    this.type = 'Graph';\n",
    "    this.vertex_id_spawn = 0;\n",
    "    this.V = {};\n",
    "\n",
    "    this.edge_id_spawn = 0;\n",
    "    this.E = {};\n",
    "\n",
    "    this.edge_counts = {};\n",
    "  };"
   ]
  },
  {
   "cell_type": "markdown",
   "metadata": {
    "colab_type": "text",
    "id": "k9JWxJvutx4m"
   },
   "source": [
    "This graph knows how to paint itself via the scene constructor parameter. The `type` attribute is probably unneccessary. Other than that, a Graph is a collection of Vertices and Edges. The graph forms the primarily exposed API for manipulating the image produced. The comment above the `clear` method indicates that it's clearly meant to be exposed to the user of this library (and the end user, but that's another story)."
   ]
  },
  {
   "cell_type": "code",
   "execution_count": null,
   "metadata": {
    "colab": {
     "autoexec": {
      "startup": false,
      "wait_interval": 0
     }
    },
    "colab_type": "code",
    "id": "WMklhuNjtx4t"
   },
   "outputs": [],
   "source": [
    "  // api\n",
    "  Graph.prototype.clear = function(){\n",
    "\n",
    "    for(var e in this.E){\n",
    "      this.E[e].destroy(that.scene);\n",
    "    }\n",
    "\n",
    "    for(var v in this.V){\n",
    "      // this.scene.remove...\n",
    "      scene.remove(this.V[v].object);\n",
    "      // this.V[v].destroy();\n",
    "    }\n",
    "    \n",
    "    this.V = {};\n",
    "    this.E = {};\n",
    "    this.edge_counts = {};\n",
    "    this.edge_id_spawn = 0;\n",
    "    this.vertex_id_spawn = 0;\n",
    "  };"
   ]
  },
  {
   "cell_type": "markdown",
   "metadata": {
    "colab_type": "text",
    "id": "-hzq6KhFtx4x"
   },
   "source": [
    "This basically ensures that all objects created by the graph are removed from the scene. "
   ]
  },
  {
   "cell_type": "code",
   "execution_count": null,
   "metadata": {
    "colab": {
     "autoexec": {
      "startup": false,
      "wait_interval": 0
     }
    },
    "colab_type": "code",
    "id": "rkK7FGFstx4y"
   },
   "outputs": [],
   "source": [
    "  Graph.prototype._make_key = function(source, target){\n",
    "    return '_' + source.toString() + '_' + target.toString();\n",
    "  };"
   ]
  },
  {
   "cell_type": "markdown",
   "metadata": {
    "colab_type": "text",
    "id": "jnao3lb6tx5A"
   },
   "source": [
    "Not sure whether this is still important. Let's do a quick text search: Ah, yes. It's used to generate a key for a pair of vertices and edges. It's used to remove edges, though I can't won't claims as to this approach's efficiency."
   ]
  },
  {
   "cell_type": "code",
   "execution_count": null,
   "metadata": {
    "colab": {
     "autoexec": {
      "startup": false,
      "wait_interval": 0
     }
    },
    "colab_type": "code",
    "id": "UWzGqnGNtx5C"
   },
   "outputs": [],
   "source": [
    "  // api\n",
    "  Graph.prototype.add_vertex = function(options){\n",
    "    var v = new Vertex(this.vertex_id_spawn++, options);\n",
    "    v.paint(this.scene);\n",
    "    this.V[v.id] = v;\n",
    "\n",
    "    return v;\n",
    "  };"
   ]
  },
  {
   "cell_type": "markdown",
   "metadata": {
    "colab_type": "text",
    "id": "lNttBA6Ptx5G"
   },
   "source": [
    "This creates a vertex in the graph, paints the vertex, and saves it to the list of vertices. "
   ]
  },
  {
   "cell_type": "code",
   "execution_count": null,
   "metadata": {
    "colab": {
     "autoexec": {
      "startup": false,
      "wait_interval": 0
     }
    },
    "colab_type": "code",
    "id": "dm8DFNoOtx5H"
   },
   "outputs": [],
   "source": [
    "  // api\n",
    "  Graph.prototype.add_edge = function(source, target, options){\n",
    "    var key = '_' + source.id + '_' + target.id;\n",
    "    var edge;\n",
    "    \n",
    "    if(!this.edge_counts.hasOwnProperty(key)){\n",
    "      edge = new Edge(this.edge_id_spawn++, source, target, options);\n",
    "      this.E[edge.id] = edge;\n",
    "      this.edge_counts[key] = 1;\n",
    "    }else{\n",
    "      this.edge_counts[key]++;\n",
    "      for(var e in target.edges){\n",
    "        for(var r in source.edges){\n",
    "          if(e === r){\n",
    "            return source.edges[r];\n",
    "          }\n",
    "        }\n",
    "      }\n",
    "    }\n",
    "    \n",
    "    edge.paint(this.scene);\n",
    "    return edge;\n",
    "  };"
   ]
  },
  {
   "cell_type": "markdown",
   "metadata": {
    "colab_type": "text",
    "id": "Sjs7cw6ftx5M"
   },
   "source": [
    "Same as the vertex, except for an edge. It should be noted that a single edge is allowed between vertices. If the edge_count is properly used, it can be used to imitate multiple edges and simply multiply the force exerted by the vertex on the edge by the multiplier. "
   ]
  },
  {
   "cell_type": "code",
   "execution_count": null,
   "metadata": {
    "colab": {
     "autoexec": {
      "startup": false,
      "wait_interval": 0
     }
    },
    "colab_type": "code",
    "id": "X26-XjPbtx5N"
   },
   "outputs": [],
   "source": [
    "  // api\n",
    "  Graph.prototype.remove_edge = function(edge){\n",
    "    var key = this._make_key(edge.source, edge.target);\n",
    "    if(--this.edge_counts[key] === 0){\n",
    "      edge.destroy();\n",
    "      delete this.E[edge.id];\n",
    "    }\n",
    "  };"
   ]
  },
  {
   "cell_type": "markdown",
   "metadata": {
    "colab_type": "text",
    "id": "pnLVRIuptx5Q"
   },
   "source": [
    "Removes an edge, simple stuff."
   ]
  },
  {
   "cell_type": "code",
   "execution_count": null,
   "metadata": {
    "colab": {
     "autoexec": {
      "startup": false,
      "wait_interval": 0
     }
    },
    "colab_type": "code",
    "id": "1FrJrIZHtx5R"
   },
   "outputs": [],
   "source": [
    "  Graph.prototype.toString = function(){\n",
    "    var edges = Object.keys(this.E).length;\n",
    "    var nodes = Object.keys(this.V).length;\n",
    "\n",
    "    return '|V|: ' + nodes.toString() + ',  |E|: ' + edges.toString();\n",
    "  };"
   ]
  },
  {
   "cell_type": "markdown",
   "metadata": {
    "colab_type": "text",
    "id": "ShjSiCnJtx5U"
   },
   "source": [
    "Another debugging function. Unlike the others for vertex and edge, this one doesn't get used in any critical make key functions yet. "
   ]
  },
  {
   "cell_type": "code",
   "execution_count": null,
   "metadata": {
    "colab": {
     "autoexec": {
      "startup": false,
      "wait_interval": 0
     }
    },
    "colab_type": "code",
    "id": "SiMM7YA1tx5V"
   },
   "outputs": [],
   "source": [
    "  // api\n",
    "  Graph.prototype.remove_vertex = function(vertex){\n",
    "    for(var e in vertex.edges){\n",
    "      vertex.edges[e].destroy(this.scene);  \n",
    "      delete this.E[e];\n",
    "    }\n",
    "    \n",
    "    this.scene.remove(vertex.object);\n",
    "    delete this.V[vertex.id];\n",
    "  };"
   ]
  },
  {
   "cell_type": "markdown",
   "metadata": {
    "colab_type": "text",
    "id": "UZzQ1cdTtx5Y"
   },
   "source": [
    "Removes a vertex, simple stuff. "
   ]
  },
  {
   "cell_type": "code",
   "execution_count": null,
   "metadata": {
    "colab": {
     "autoexec": {
      "startup": false,
      "wait_interval": 0
     }
    },
    "colab_type": "code",
    "id": "wb4omat5tx5Z"
   },
   "outputs": [],
   "source": [
    "  var is_graph = function(potential){\n",
    "    return potential.type === 'Graph';\n",
    "  };"
   ]
  },
  {
   "cell_type": "markdown",
   "metadata": {
    "colab_type": "text",
    "id": "THQNQw_Ztx5d"
   },
   "source": [
    "Why, I'm not sure this is needed at all! It's not like I'm doing graph addition or subtraction yet. "
   ]
  },
  {
   "cell_type": "markdown",
   "metadata": {
    "colab_type": "text",
    "id": "GPfwSIDFxqXk"
   },
   "source": [
    "## The Cube Class\n",
    "The cube class is responsible for constructing a drawable cube, either with a texture or a color."
   ]
  },
  {
   "cell_type": "code",
   "execution_count": null,
   "metadata": {
    "colab": {
     "autoexec": {
      "startup": false,
      "wait_interval": 0
     }
    },
    "colab_type": "code",
    "id": "9F8bVZketx5f"
   },
   "outputs": [],
   "source": [
    "  // apiish\n",
    "  var Cube = function(scene, options){\n",
    "    if(options === undefined){\n",
    "      options = {};\n",
    "    }\n",
    "    \n",
    "    if(options.width === undefined){\n",
    "      options.width = 3;\n",
    "    }\n",
    "    if(options.height === undefined){\n",
    "      options.height = 3;\n",
    "    }\n",
    "    if(options.depth === undefined){\n",
    "      options.depth = 3;\n",
    "    }\n",
    "    if(options.color === undefined){\n",
    "      options.color = 0x00ccaa;\n",
    "    }\n",
    "    \n",
    "    if(options.wireframe === undefined){\n",
    "      options.wireframe = false;\n",
    "    }\n",
    "    \n",
    "    var geometry, material, material_args;\n",
    "    geometry = new THREE.BoxGeometry(\n",
    "      options.width,\n",
    "      options.height,\n",
    "      options.depth\n",
    "    );\n",
    "    geometry.dynamic = true;\n",
    "    \n",
    "    if(options.texture !== undefined){\n",
    "\n",
    "      material_args = { \n",
    "        map: THREE.ImageUtils.loadTexture( options.texture )\n",
    "      };\n",
    "      \n",
    "    }else{\n",
    "      material_args = { \n",
    "        color: options.color,\n",
    "        wireframe: true\n",
    "      };\n",
    "    }\n",
    "\n",
    "    material = new THREE.MeshBasicMaterial( material_args );\n",
    "    \n",
    "    var cube = new THREE.Mesh( geometry, material );\n",
    "    var scale = 2;\n",
    "    cube.position = new THREE.Vector3(\n",
    "      Math.random() * scale, Math.random() * scale,\n",
    "      Math.random() * scale\n",
    "    );\n",
    "    cube.matrixAutoUpdate = true;\n",
    "    \n",
    "    scene.add(cube);\n",
    "    return cube;\n",
    "  };\n",
    "  "
   ]
  },
  {
   "cell_type": "markdown",
   "metadata": {
    "colab_type": "text",
    "id": "wP9eNBFYtx5k"
   },
   "source": [
    "The Cube function should more accurately be called `_Cube` and the Label function `_label`, since it's not part of the API. But other than that, it does what it's supposed to. It can be used where a label is currently used. The scene variable needs ot be yanked out of Cube, and left to paint. `size` is a sufficient cube parameter. "
   ]
  },
  {
   "cell_type": "code",
   "execution_count": null,
   "metadata": {
    "colab": {
     "autoexec": {
      "startup": false,
      "wait_interval": 0
     }
    },
    "colab_type": "code",
    "id": "4NNs2j5-tx5m"
   },
   "outputs": [],
   "source": [
    "  // api-ish\n",
    "  var Cube = function(options){\n",
    "    if(options.color === undefined){\n",
    "      options.color = 0x00ccaa;\n",
    "    }\n",
    "    \n",
    "    if(options.wireframe === undefined){\n",
    "      options.wireframe = false;\n",
    "    }\n",
    "    \n",
    "    var geometry, material, material_args;\n",
    "    geometry = new THREE.BoxGeometry(\n",
    "      options.size,\n",
    "      options.size,\n",
    "      options.size\n",
    "    );\n",
    "    geometry.dynamic = true;\n",
    "    \n",
    "    if(options.texture !== undefined){\n",
    "      material_args = {map: THREE.ImageUtils.loadTexture( options.texture )};\n",
    "    }else{\n",
    "      material_args = {color: options.color, wireframe: true};\n",
    "    }\n",
    "\n",
    "    material = new THREE.MeshBasicMaterial( material_args );\n",
    "    \n",
    "    var cube = new THREE.Mesh( geometry, material );\n",
    "    //var scale = 2;\n",
    "    cube.position = new THREE.Vector3(\n",
    "      Math.random(),// * scale, \n",
    "      Math.random(),// * scale,\n",
    "      Math.random() * scale\n",
    "    );\n",
    "    cube.matrixAutoUpdate = true;\n",
    "    \n",
    "    scene.add(cube);\n",
    "    return cube;\n",
    "  };  "
   ]
  },
  {
   "cell_type": "markdown",
   "metadata": {
    "colab_type": "text",
    "id": "LdDAzM4itx5w"
   },
   "source": [
    "That looks better. "
   ]
  },
  {
   "cell_type": "code",
   "execution_count": null,
   "metadata": {
    "colab_type": "text",
    "id": "-wfvAaRStx5x"
   },
   "outputs": [],
   "source": [
    "  /*\n",
    "    todo: a streamlined system for extracting options. \n",
    "    \n",
    "    specifically:\n",
    "      vertex_options.label and edge_options.label should be\n",
    "      the same, and the label option should not conflict with \n",
    "      vertex- or edge- options.\n",
    "      \n",
    "    This system could be called an option extractor. I see a \n",
    "    stream of options being passed through the vertex and edge\n",
    "    constructors and painters that takes the appropriate parts \n",
    "    of the options and applies them to the correct part in the \n",
    "    taxonomy of objects, i.e. vertex or label, or edge or label.\n",
    "  */\n",
    "  \n",
    "  /*\n",
    "    THREE.Sprite Label(parameters)\n",
    "  \n",
    "    label\n",
    "    creates a label that can be added to a vertex or an edge.\n",
    "    \n",
    "    parameters\n",
    "    - text\n",
    "    - font_family      // optional: 'Arial'\n",
    "    - font_size        // optional: 12\n",
    "    - sprite_alignment // optional: top left\n",
    "    \n",
    "    returns\n",
    "    a sprite\n",
    "  */\n",
    "  "
   ]
  },
  {
   "cell_type": "markdown",
   "metadata": {
    "colab_type": "text",
    "id": "cZENdVg9tx5y"
   },
   "source": [
    "Some of this is outdated. One thing on my todo list is definitely to be able to add a label beneath a vertex. "
   ]
  },
  {
   "cell_type": "markdown",
   "metadata": {
    "colab_type": "text",
    "id": "gVvMAcAsyWjq"
   },
   "source": [
    "## Another Label"
   ]
  },
  {
   "cell_type": "code",
   "execution_count": null,
   "metadata": {
    "colab": {
     "autoexec": {
      "startup": false,
      "wait_interval": 0
     }
    },
    "colab_type": "code",
    "id": "_O4QhNExtx50"
   },
   "outputs": [],
   "source": [
    "  var Label = function( parameters ){\n",
    "    if( parameters === undefined ){\n",
    "      parameters = {};\n",
    "    }\n",
    "    \n",
    "    if(!parameters.text === undefined){\n",
    "      throw \"Can't do a label without some text\";\n",
    "    }\n",
    "    \n",
    "    var font_family = parameters.hasOwnProperty('font_family') ? \n",
    "      parameters['font_family'] : 'Arial';\n",
    "    var font_size = parameters.hasOwnProperty('font_size') ? \n",
    "      parameters['font_size'] : 12;\n",
    "    // border thickness\n",
    "    // border color\n",
    "    // background color\n",
    "    \n",
    "    var canvas = document.createElement('canvas');\n",
    "    var context = canvas.getContext('2d');\n",
    "    context.font = \"Bold \" + font_size + \"px \" + font_family;\n",
    "    \n",
    "    // get size data (height depends only on font size)\n",
    "    var metrics = context.measureText(parameters.text);\n",
    "    var text_width = metrics.width;\n",
    "    //context.fillStyle = \"rgba(0,0,0,0)\";\n",
    "    //context.strokeStyle = \"rgba(0,0,0,0)\";\n",
    "    \n",
    "    //context.lineWidth = 0;\n",
    "    context.fillStyle = \"rgba(0, 0, 0, 1.0)\";\n",
    "    context.fillText(parameters.text ? parameters.text : '', 1, font_size);\n",
    "    \n",
    "    var texture = new THREE.Texture(canvas);\n",
    "    texture.needsUpdate = true;\n",
    "    \n",
    "    var sprite_material = new THREE.SpriteMaterial(\n",
    "      {\n",
    "        map: texture, \n",
    "        useScreenCoordinates: false\n",
    "      }\n",
    "    );\n",
    "    \n",
    "    var sprite = new THREE.Sprite( sprite_material );\n",
    "    sprite.scale.set(100, 50, 1.0);\n",
    "\n",
    "    return sprite;\n",
    "  };"
   ]
  },
  {
   "cell_type": "markdown",
   "metadata": {
    "colab_type": "text",
    "id": "5F8V_FuQtx6F"
   },
   "source": [
    "Again, I think this code is outdated, and the label code at the top should be used to draw labels. I shall investigate: Yes, this is now a duplicate. I shall keep it around until I know the other one works better. "
   ]
  },
  {
   "cell_type": "markdown",
   "metadata": {
    "colab_type": "text",
    "id": "bg-0y8y_ygg6"
   },
   "source": [
    "## The line function\n",
    "The line function is used to draw edges. "
   ]
  },
  {
   "cell_type": "code",
   "execution_count": null,
   "metadata": {
    "colab": {
     "autoexec": {
      "startup": false,
      "wait_interval": 0
     }
    },
    "colab_type": "code",
    "id": "cH1uftbNtx6G"
   },
   "outputs": [],
   "source": [
    "  // apiish this will change\n",
    "  // todo: make line options like cube options\n",
    "  var line = function(scene, source, target){\n",
    "    var geometry = new THREE.Geometry();\n",
    "    geometry.dynamic = true;\n",
    "    geometry.vertices.push(source.object.position);\n",
    "    geometry.vertices.push(target.object.position);\n",
    "    geometry.verticesNeedUpdate = true;\n",
    "    \n",
    "    var material = new THREE.LineBasicMaterial({ color: 0x000000 });\n",
    "    \n",
    "    var line = new THREE.Line( geometry, material );\n",
    "      \n",
    "    scene.add(line);\n",
    "    return line;\n",
    "  };"
   ]
  },
  {
   "cell_type": "markdown",
   "metadata": {
    "colab_type": "text",
    "id": "zPFyqA1mys4N"
   },
   "source": [
    "## The Barnes Hut Node 3\n",
    "The Barnes Hute Node 3 (BHN3 for short) represents, in my opinion, the biggest achievement in Veldhuizen's paper. "
   ]
  },
  {
   "cell_type": "markdown",
   "metadata": {
    "colab_type": "text",
    "id": "L-8Fp9mptx6L"
   },
   "source": [
    "Here's where things get a little complicated, and there might be room for improvement, for example by converting the graph to matrix form. "
   ]
  },
  {
   "cell_type": "markdown",
   "metadata": {
    "colab_type": "text",
    "id": "kGTzD8m3tx6N"
   },
   "source": [
    "But first, let me investigate and describe what these functions do. "
   ]
  },
  {
   "cell_type": "code",
   "execution_count": null,
   "metadata": {
    "colab": {
     "autoexec": {
      "startup": false,
      "wait_interval": 0
     }
    },
    "colab_type": "code",
    "id": "THed__74tx6Q"
   },
   "outputs": [],
   "source": [
    "  var BHN3 = function(){\n",
    "    this.inners = [];\n",
    "    this.outers = {};\n",
    "    this.center_sum = new THREE.Vector3(0, 0, 0);\n",
    "    this.center_count = 0;\n",
    "  };"
   ]
  },
  {
   "cell_type": "markdown",
   "metadata": {
    "colab_type": "text",
    "id": "_qL5cJJUtx6c"
   },
   "source": [
    "The Barnes Hut Node 3 is a seven way tree that stores vertices closer than the constant `inner_distance` in the inners array, while storing everything outside that radius in one of the outers. There are six outers. I bet this class could be enhanced to keep track of the outermost vertex. "
   ]
  },
  {
   "cell_type": "code",
   "execution_count": null,
   "metadata": {
    "colab": {
     "autoexec": {
      "startup": false,
      "wait_interval": 0
     }
    },
    "colab_type": "code",
    "id": "CPVtCbsutx6e"
   },
   "outputs": [],
   "source": [
    "  var BHN3 = function(){\n",
    "    this.inners = [];\n",
    "    this.outers = {};\n",
    "    this.center_sum = new THREE.Vector3(0, 0, 0);\n",
    "    this.center_count = 0;\n",
    "    this.furthest = 0;\n",
    "  }"
   ]
  },
  {
   "cell_type": "markdown",
   "metadata": {
    "colab_type": "text",
    "id": "1SG9DC_Gtx6l"
   },
   "source": [
    "That looks a little better. I might revisit this code later and add the graph to the constructor. "
   ]
  },
  {
   "cell_type": "code",
   "execution_count": null,
   "metadata": {
    "colab_type": "text",
    "id": "f98gQjSmtx6m"
   },
   "outputs": [],
   "source": [
    "  BHN3.prototype.constants = CONSTANTS.BHN3;"
   ]
  },
  {
   "cell_type": "markdown",
   "metadata": {
    "colab_type": "text",
    "id": "FAyig0c6tx6n"
   },
   "source": [
    "Some housekeeping. "
   ]
  },
  {
   "cell_type": "code",
   "execution_count": null,
   "metadata": {
    "colab": {
     "autoexec": {
      "startup": false,
      "wait_interval": 0
     }
    },
    "colab_type": "code",
    "id": "mRX0GSXltx6o"
   },
   "outputs": [],
   "source": [
    "  BHN3.prototype.center = function(){\n",
    "    return this.center_sum.clone().divideScalar(this.center_count);\n",
    "  };"
   ]
  },
  {
   "cell_type": "markdown",
   "metadata": {
    "colab_type": "text",
    "id": "raq9ktPntx6s"
   },
   "source": [
    "This function estimates the center of the graph. "
   ]
  },
  {
   "cell_type": "code",
   "execution_count": null,
   "metadata": {
    "colab": {
     "autoexec": {
      "startup": false,
      "wait_interval": 0
     }
    },
    "colab_type": "code",
    "id": "WdtOYarutx6x"
   },
   "outputs": [],
   "source": [
    "  BHN3.prototype.place_inner = function(vertex){\n",
    "    this.inners.push(vertex);\n",
    "    this.center_sum.add(vertex.object.position);\n",
    "    this.center_count += 1;\n",
    "  };"
   ]
  },
  {
   "cell_type": "markdown",
   "metadata": {
    "colab_type": "text",
    "id": "IJuY_mWstx63"
   },
   "source": [
    "This function is used to add a vertex to the `inner` array. Perhaps if I could find a way of maintaining the tree instead of recreating it from scratch with every draw loop. "
   ]
  },
  {
   "cell_type": "code",
   "execution_count": null,
   "metadata": {
    "colab": {
     "autoexec": {
      "startup": false,
      "wait_interval": 0
     }
    },
    "colab_type": "code",
    "id": "n7BQ7GxGtx64"
   },
   "outputs": [],
   "source": [
    "  BHN3.prototype.get_octant = function(position){\n",
    "    var center = this.center();\n",
    "    var x = center.x < position.x ? 'l' : 'r';\n",
    "    var y = center.y < position.y ? 'u' : 'd';\n",
    "    var z = center.z < position.z ? 'i' : 'o';\n",
    "    return x + y + z;\n",
    "  };"
   ]
  },
  {
   "cell_type": "markdown",
   "metadata": {
    "colab_type": "text",
    "id": "rAZgvngQtx66"
   },
   "source": [
    "This function is used to determine which - 2 options each and there's 3 of them - eight octants the vertex's position will place the vertex in. "
   ]
  },
  {
   "cell_type": "code",
   "execution_count": null,
   "metadata": {
    "colab_type": "text",
    "id": "UP8VKV32tx67"
   },
   "outputs": [],
   "source": [
    "  BHN3.prototype.place_outer = function(vertex){\n",
    "    var octant = this.get_octant(vertex.object.position);\n",
    "    this.outers[octant] = this.outers[octant] || new BHN3();\n",
    "    this.outers[octant].insert(vertex);\n",
    "  };"
   ]
  },
  {
   "cell_type": "markdown",
   "metadata": {
    "colab_type": "text",
    "id": "AV2W2iCetx68"
   },
   "source": [
    "`place_outer` takes the vertex, determines which octant (in a 2d map it'd be a quadrant, in a binary search tree, it would be a side) the vertex belongs in. This looks like two good opportunities: \n",
    "\n",
    "* updating `furthest`, and \n",
    "* looking up how to maintain a binary search tree\n",
    "\n",
    "Those techniques could probably be used for the BHN3. "
   ]
  },
  {
   "cell_type": "code",
   "execution_count": null,
   "metadata": {
    "colab": {
     "autoexec": {
      "startup": false,
      "wait_interval": 0
     }
    },
    "colab_type": "code",
    "id": "XnLz1Kc5tx68"
   },
   "outputs": [],
   "source": [
    "  BHN3.prototype.place_outer = function(vertex){\n",
    "    var octant = this.get_octant(vertex.object.position);\n",
    "    this.outers[octant] = this.outers[octant] || new BHN3();\n",
    "    this.outers[octant].insert(vertex);\n",
    "    \n",
    "    var distance_from_center = vertex.object.position.distanceTo(this.center);\n",
    "    if(distance_from_center > this.furthest){ // can i get away with not calling center again?\n",
    "      \n",
    "    } \n",
    "  };"
   ]
  },
  {
   "cell_type": "code",
   "execution_count": null,
   "metadata": {
    "colab": {
     "autoexec": {
      "startup": false,
      "wait_interval": 0
     }
    },
    "colab_type": "code",
    "id": "TErCBf2dtx6_"
   },
   "outputs": [],
   "source": [
    "  BHN3.prototype.insert = function(vertex){\n",
    "    if(this.inners.length === 0){\n",
    "      this.place_inner(vertex);\n",
    "    }else{\n",
    "      if(this.center().distanceTo(vertex.object.position) <= this.constants.inner_distance){\n",
    "        this.place_inner(vertex);\n",
    "      }else{\n",
    "        this.place_outer(vertex);\n",
    "      }\n",
    "    }\n",
    "  };"
   ]
  },
  {
   "cell_type": "markdown",
   "metadata": {
    "colab_type": "text",
    "id": "MDQbQuYStx7C"
   },
   "source": [
    "Insert defers to place_inner or place_outer depending on how far a vertex is from the node's center."
   ]
  },
  {
   "cell_type": "code",
   "execution_count": null,
   "metadata": {
    "colab": {
     "autoexec": {
      "startup": false,
      "wait_interval": 0
     }
    },
    "colab_type": "code",
    "id": "r_1M4u5Btx7F"
   },
   "outputs": [],
   "source": [
    "  BHN3.prototype.estimate = function(vertex, force, force_fn){\n",
    "    if(this.inners.indexOf(vertex) > -1){\n",
    "      for(var i=0; i<this.inners.length; i++){\n",
    "        if(vertex !== this.inners[i]){\n",
    "          var individual_force = force_fn(\n",
    "            vertex.object.position.clone(),\n",
    "            this.inners[i].object.position.clone()\n",
    "          );\n",
    "\t  \n",
    "          force.add(individual_force);\n",
    "        }\n",
    "      }\n",
    "    }else{\n",
    "      var sumstimate = force_fn(vertex.object.position, this.center());\n",
    "      sumstimate.multiplyScalar(this.center_count);\n",
    "      force.add(sumstimate);\n",
    "    }\n",
    "    \n",
    "    for(var octant in this.outers){\n",
    "      this.outers[octant].estimate(vertex, force, force_fn);\n",
    "    }\n",
    "  };"
   ]
  },
  {
   "cell_type": "markdown",
   "metadata": {
    "colab_type": "text",
    "id": "BaXyyE2atx7P"
   },
   "source": [
    "BHN3's estimate function can be used with the pairwise repulsion function. It's meant for situations where you obtain a value by traversing the entire or condensed tree. "
   ]
  },
  {
   "cell_type": "code",
   "execution_count": null,
   "metadata": {
    "colab": {
     "autoexec": {
      "startup": false,
      "wait_interval": 0
     }
    },
    "colab_type": "code",
    "id": "ENQKYCTZtx7Q"
   },
   "outputs": [],
   "source": [
    "  BHN3.prototype.pairwise_repulsion = function( x1, x2 ){\n",
    "\n",
    "    var enumerator1, denominator1, \n",
    "      enumerator2, denominator2, \n",
    "      repulsion_constant, \n",
    "      difference, absolute_difference, \n",
    "      epsilon, product, \n",
    "      term1, term2,\n",
    "      square, sum, result; \n",
    "    \n",
    "    // first term\n",
    "    enumerator1 = repulsion_constant = CONSTANTS.BHN3.repulsion;\n",
    "    \n",
    "    difference = x1.clone().sub(x2.clone());\n",
    "    absolute_difference = difference.length();\n",
    "    \n",
    "    epsilon = CONSTANTS.BHN3.epsilon;\n",
    "    sum = epsilon + absolute_difference;\n",
    "    denominator1 = square = sum*sum;\n",
    "    \n",
    "    term1 = enumerator1 / denominator1;\n",
    "    \n",
    "    // second term\n",
    "    enumerator2 = difference;\n",
    "    denominator2 = absolute_difference;\n",
    "    \n",
    "    term2 = enumerator2.divideScalar(denominator2);\n",
    "    \n",
    "    // result\n",
    "    result = term2.multiplyScalar(term1);  \n",
    "    \n",
    "    return result;\n",
    "  };\n",
    "  "
   ]
  },
  {
   "cell_type": "markdown",
   "metadata": {
    "colab_type": "text",
    "id": "-l8Bsv6itx7V"
   },
   "source": [
    "The pairwise repulsion function is used with the estimate function in determining the forces acting on the vertices, and their edges."
   ]
  },
  {
   "cell_type": "markdown",
   "metadata": {
    "colab_type": "text",
    "id": "YSnPBzTRzOWN"
   },
   "source": [
    "## Graph.layout()\n",
    "This function gets called at each animation frame. It is unfortunate that it is so complicated. "
   ]
  },
  {
   "cell_type": "code",
   "execution_count": null,
   "metadata": {
    "colab": {
     "autoexec": {
      "startup": false,
      "wait_interval": 0
     }
    },
    "colab_type": "code",
    "id": "pRvxL8aktx7W"
   },
   "outputs": [],
   "source": [
    "  var edges = false;\n",
    "  Graph.prototype.layout = function(){\n",
    "\n",
    "    // calculate repulsions\n",
    "    var tree = new BHN3();\n",
    "    var vertex, edge, v, e;\n",
    "    \n",
    "    for(v in this.V){\n",
    "      vertex = this.V[v];\n",
    "      vertex.acceleration = new THREE.Vector3(0.0, 0.0, 0.0);\n",
    "      vertex.repulsion_forces = new THREE.Vector3(0.0, 0.0, 0.0);\n",
    "      vertex.attraction_forces = new THREE.Vector3(0.0, 0.0, 0.0);\n",
    "\n",
    "      tree.insert(vertex);\n",
    "    }\n",
    "    \n",
    "    for(v in this.V){\n",
    "      vertex = this.V[v];\n",
    "      vertex.repulsion_forces = vertex.repulsion_forces || new THREE.Vector3();\n",
    "      vertex.repulsion_forces.set(0.0, 0.0, 0.0);\n",
    "      tree.estimate(\n",
    "        vertex, vertex.repulsion_forces,\n",
    "        BHN3.prototype.pairwise_repulsion\n",
    "      );\n",
    "    }\n",
    "    \n",
    "    // calculate attractions\n",
    "    \n",
    "    for(e in this.E){\n",
    "      edge = this.E[e];\n",
    "      \n",
    "      var attraction = edge.source.object.position.clone().sub(\n",
    "        edge.target.object.position\n",
    "      );\n",
    "      attraction.multiplyScalar(-1 * CONSTANTS.attraction);\n",
    "\n",
    "      // attraction.multiplyScalar(edge.options.strength);\n",
    "\n",
    "      edge.source.attraction_forces.sub(attraction);\n",
    "      edge.target.attraction_forces.add(attraction);\n",
    "\n",
    "      if(edge.gravity){\n",
    "        var gravity = new THREE.Vector3(0.0, -1 * CONSTANTS.gravity, 0.0);\n",
    "        edge.target.acceleration.add(gravity);\n",
    "      }\n",
    "    }\n",
    "    \n",
    "    for(v in this.V){\n",
    "      // update velocity\n",
    "      vertex = this.V[v];\n",
    "      if(vertex){\n",
    "        var friction = vertex.velocity.multiplyScalar(CONSTANTS.friction);\n",
    "\n",
    "        vertex.acceleration.add(\n",
    "          vertex.repulsion_forces.clone().add(\n",
    "            vertex.attraction_forces.clone().negate()\n",
    "          )\n",
    "        );\n",
    "        vertex.acceleration.sub(friction);\n",
    "        \n",
    "        vertex.velocity.add(vertex.acceleration);\n",
    "        vertex.object.position.add(vertex.velocity);\n",
    "      }\n",
    "    }\n",
    "    \n",
    "    for(e in this.E){\n",
    "      edge = this.E[e];\n",
    "\n",
    "      if(edge){  \n",
    "        edge.object.geometry.dirty = true;\n",
    "        edge.object.geometry.__dirty = true;\n",
    "        edge.object.geometry.verticesNeedUpdate = true;\n",
    "      }\n",
    "    }\n",
    "\n",
    "    this.center = tree.center();\n",
    "  };"
   ]
  },
  {
   "cell_type": "markdown",
   "metadata": {
    "colab_type": "text",
    "id": "uCYZUjlHtx7Z"
   },
   "source": [
    "This is the layout function in all its painstaking glory. There are four loops in here, all achieving differnet things. Maybe some of those things can overlap. Maybe the edge attraction math can be done in a two dimensional array. "
   ]
  },
  {
   "cell_type": "code",
   "execution_count": null,
   "metadata": {
    "colab": {
     "autoexec": {
      "startup": false,
      "wait_interval": 0
     }
    },
    "colab_type": "code",
    "id": "Ng4FqYxztx7Z"
   },
   "outputs": [],
   "source": [
    "  var edges = false;\n",
    "  Graph.prototype.layout = function(){\n",
    "\n",
    "    // calculate repulsions\n",
    "    var tree = new BHN3();\n",
    "    var vertex, edge, v, e;\n",
    "    \n",
    "      "
   ]
  },
  {
   "cell_type": "markdown",
   "metadata": {
    "colab_type": "text",
    "id": "PbPRLAoZtx7d"
   },
   "source": [
    "So far we've declared some commonly used variables. "
   ]
  },
  {
   "cell_type": "code",
   "execution_count": null,
   "metadata": {
    "colab": {
     "autoexec": {
      "startup": false,
      "wait_interval": 0
     }
    },
    "colab_type": "code",
    "id": "dqLOZQ_3tx7e"
   },
   "outputs": [],
   "source": [
    "      \n",
    "    for(v in this.V){\n",
    "      vertex = this.V[v];\n",
    "      vertex.acceleration = new THREE.Vector3(0.0, 0.0, 0.0);\n",
    "      vertex.repulsion_forces = new THREE.Vector3(0.0, 0.0, 0.0);\n",
    "      vertex.attraction_forces = new THREE.Vector3(0.0, 0.0, 0.0);\n",
    "\n",
    "      tree.insert(vertex);\n",
    "    }\n",
    "    "
   ]
  },
  {
   "cell_type": "markdown",
   "metadata": {
    "colab_type": "text",
    "id": "OBLh11oEtx7i"
   },
   "source": [
    "This loops makes sure every vertex has an `acceleration`, `repulsion_forces` and `attraction_forces` before inserting the vertex into the tree initialized earlier. It would probably be of great benefit to be able to maintain the tree across iterations. "
   ]
  },
  {
   "cell_type": "code",
   "execution_count": null,
   "metadata": {
    "colab": {
     "autoexec": {
      "startup": false,
      "wait_interval": 0
     }
    },
    "colab_type": "code",
    "id": "4xQgond4tx7j"
   },
   "outputs": [],
   "source": [
    "    for(v in this.V){\n",
    "      vertex = this.V[v];\n",
    "      vertex.repulsion_forces = vertex.repulsion_forces || new THREE.Vector3();\n",
    "      vertex.repulsion_forces.set(0.0, 0.0, 0.0);\n",
    "      tree.estimate(\n",
    "        vertex, vertex.repulsion_forces,\n",
    "        BHN3.prototype.pairwise_repulsion\n",
    "      );\n",
    "    }"
   ]
  },
  {
   "cell_type": "markdown",
   "metadata": {
    "colab_type": "text",
    "id": "2QmkNhxqtx7m"
   },
   "source": [
    "This loop over the vertices assigns each vertex the property of repulsion force, which could probably be done upon vertex initialization, and estimates these repulsion forces using the pairwise repulsion function defined earlier. "
   ]
  },
  {
   "cell_type": "code",
   "execution_count": null,
   "metadata": {
    "colab": {
     "autoexec": {
      "startup": false,
      "wait_interval": 0
     }
    },
    "colab_type": "code",
    "id": "DYj-PFY3tx7m"
   },
   "outputs": [],
   "source": [
    "    // calculate attractions\n",
    "    \n",
    "    for(e in this.E){\n",
    "      edge = this.E[e];\n",
    "      \n",
    "      var attraction = edge.source.object.position.clone().sub(\n",
    "        edge.target.object.position\n",
    "      );\n",
    "      attraction.multiplyScalar(-1 * CONSTANTS.attraction);\n",
    "\n",
    "      // attraction.multiplyScalar(edge.options.strength);\n",
    "\n",
    "      edge.source.attraction_forces.sub(attraction);\n",
    "      edge.target.attraction_forces.add(attraction);\n",
    "\n",
    "      if(edge.gravity){\n",
    "        var gravity = new THREE.Vector3(0.0, -1 * CONSTANTS.gravity, 0.0);\n",
    "        edge.target.acceleration.add(gravity);\n",
    "      }\n",
    "    }"
   ]
  },
  {
   "cell_type": "markdown",
   "metadata": {
    "colab_type": "text",
    "id": "pjfrhfgvtx7o"
   },
   "source": [
    "This loop over the edges assigns positive and negative attraction to each of the connected vertices. "
   ]
  },
  {
   "cell_type": "code",
   "execution_count": null,
   "metadata": {
    "colab": {
     "autoexec": {
      "startup": false,
      "wait_interval": 0
     }
    },
    "colab_type": "code",
    "id": "9e8OcdYxtx7p"
   },
   "outputs": [],
   "source": [
    "    for(v in this.V){\n",
    "      // update velocity\n",
    "      vertex = this.V[v];\n",
    "      if(vertex){\n",
    "        var friction = vertex.velocity.multiplyScalar(CONSTANTS.friction);\n",
    "\n",
    "        vertex.acceleration.add(\n",
    "          vertex.repulsion_forces.clone().add(\n",
    "            vertex.attraction_forces.clone().negate()\n",
    "          )\n",
    "        );\n",
    "        vertex.acceleration.sub(friction);\n",
    "        \n",
    "        vertex.velocity.add(vertex.acceleration);\n",
    "        vertex.object.position.add(vertex.velocity);\n",
    "      }\n",
    "    }"
   ]
  },
  {
   "cell_type": "markdown",
   "metadata": {
    "colab_type": "text",
    "id": "UVEOFTlmtx7s"
   },
   "source": [
    "This loop over the vertices applies friction to the repulsion.forces and subtracts/adds repulsion and attraction forces from the vertexes acceleration before \"downgrading\" to velocity and ultimately, position. "
   ]
  },
  {
   "cell_type": "code",
   "execution_count": null,
   "metadata": {
    "colab": {
     "autoexec": {
      "startup": false,
      "wait_interval": 0
     }
    },
    "colab_type": "code",
    "id": "mb0_LYtitx7s"
   },
   "outputs": [],
   "source": [
    "    for(e in this.E){\n",
    "      edge = this.E[e];\n",
    "\n",
    "      if(edge){  \n",
    "        edge.object.geometry.dirty = true;\n",
    "        edge.object.geometry.__dirty = true;\n",
    "        edge.object.geometry.verticesNeedUpdate = true;\n",
    "      }\n",
    "    }"
   ]
  },
  {
   "cell_type": "markdown",
   "metadata": {
    "colab_type": "text",
    "id": "SHFmbmfWtx7v"
   },
   "source": [
    "In this final loop, the edge geometries are updated so they can be redrawn on the screen. "
   ]
  },
  {
   "cell_type": "code",
   "execution_count": null,
   "metadata": {
    "colab": {
     "autoexec": {
      "startup": false,
      "wait_interval": 0
     }
    },
    "colab_type": "code",
    "id": "DM6b8nNptx7w"
   },
   "outputs": [],
   "source": [
    "    this.center = tree.center();\n",
    "  };"
   ]
  },
  {
   "cell_type": "markdown",
   "metadata": {
    "colab_type": "text",
    "id": "PKJ3QPADtx70"
   },
   "source": [
    "Finally, we recompute the center of the graph."
   ]
  },
  {
   "cell_type": "markdown",
   "metadata": {
    "colab_type": "text",
    "id": "BvKfWryQ8H59"
   },
   "source": [
    "## Housekeeping, setup and the render loop"
   ]
  },
  {
   "cell_type": "code",
   "execution_count": null,
   "metadata": {
    "colab": {
     "autoexec": {
      "startup": false,
      "wait_interval": 0
     }
    },
    "colab_type": "code",
    "id": "HsI9ouGftx72"
   },
   "outputs": [],
   "source": [
    "  this._internals = {};\n",
    "  var scene,\n",
    "      element,\n",
    "      camera,\n",
    "      light,\n",
    "      renderer,\n",
    "      graph;\n",
    "\n",
    "  var render = function render(){\n",
    "    requestAnimationFrame(render);\n",
    "    graph.layout();\n",
    "    renderer.render(scene, camera);\n",
    "    camera.position.z = graph.center.z - CONSTANTS.zoom;\n",
    "    camera.lookAt(graph.center);\n",
    "  };\n",
    "\n",
    "  var clear = function clear(){\n",
    "    graph.clear();\n",
    "  };\n",
    "  \n",
    "  // api\n",
    "  this.init = function(selector, options){\n",
    "    scene = new THREE.Scene();\n",
    "    element = document.querySelector(selector);\n",
    "    if(!element){\n",
    "      throw \"element \" + selector + \" wasn't found on the page.\";\n",
    "    }\n",
    "    camera = new THREE.PerspectiveCamera(\n",
    "      70,\n",
    "      options.width / options.height,\n",
    "      1,\n",
    "      CONSTANTS.far\n",
    "    );\n",
    "    light = new THREE.PointLight( 0xeeeeee ); // soft white light\n",
    "    \n",
    "    CONSTANTS.scene = scene;\n",
    "    scene.add( camera );\n",
    "    scene.add( light );\n",
    "    \n",
    "    renderer = new THREE.WebGLRenderer();\n",
    "    renderer.setClearColor(0xefefef);\n",
    "    renderer.setSize( options.width, options.height );\n",
    "    \n",
    "    document.querySelector(selector).appendChild( renderer.domElement );\n",
    "    \n",
    "    graph = new Graph(scene);\n",
    "    \n",
    "    camera.position.z = -250;\n",
    "    camera.lookAt(new THREE.Vector3(0, 0, 0));\n",
    "\n",
    "    that._internals = {\n",
    "      scene: scene,\n",
    "      element: element,\n",
    "      camera: camera,\n",
    "      light: light,\n",
    "      renderer: renderer,\n",
    "      graph: graph\n",
    "    };\n",
    "\n",
    "    // api\n",
    "    this.version = \"0.1.0\";\n",
    "    this.graph = graph;\n",
    "    this.render = render;\n",
    "    this.clear = clear;\n",
    "    this.variables = CONSTANTS;\n",
    "\n",
    "    render();\n",
    "  };\n",
    "  \n",
    "  this._internals = {\n",
    "    Vertex: Vertex,\n",
    "    Edge: Edge,\n",
    "    Graph: Graph,\n",
    "    BHN3: BHN3,\n",
    "  };\n",
    "\n",
    "  // untested\n",
    "  this.setCubeFn = function(fn){\n",
    "    cube = fn;\n",
    "  };\n",
    "\n",
    "  this.setLineFn = function(fn){\n",
    "    line = fn;\n",
    "  };\n",
    "  // end untested\n",
    "  \n",
    "  return this;\n",
    "};"
   ]
  },
  {
   "cell_type": "markdown",
   "metadata": {
    "colab": {
     "autoexec": {
      "startup": false,
      "wait_interval": 0
     }
    },
    "colab_type": "code",
    "id": "sqxE2XTit8R1"
   },
   "source": [
    "## No Success: JSDOM + THREE.JS"
   ]
  },
  {
   "cell_type": "markdown",
   "metadata": {
    "colab_type": "text",
    "id": "IaFsanjUtx79"
   },
   "source": [
    "The goal of the undertakings below is to run something that belongs in a browser in an environment that unfortunately does not offer an iframe. "
   ]
  },
  {
   "cell_type": "code",
   "execution_count": null,
   "metadata": {
    "colab": {
     "autoexec": {
      "startup": false,
      "wait_interval": 0
     }
    },
    "colab_type": "code",
    "id": "4djc1tsYtx7-"
   },
   "outputs": [],
   "source": [
    "var jsdom = require(\"jsdom\");\n",
    "global.document = jsdom.jsdom();"
   ]
  },
  {
   "cell_type": "markdown",
   "metadata": {
    "colab_type": "text",
    "id": "T1w_648Ttx8B"
   },
   "source": [
    "This doesn't seem to be working. I'll have to ask about how to install jsdom in jupyter. "
   ]
  },
  {
   "cell_type": "markdown",
   "metadata": {
    "colab_type": "text",
    "id": "pLzHOSbZtx8D"
   },
   "source": [
    "I tried installing `npm -g install require` just to be sure. Let's try again!"
   ]
  },
  {
   "cell_type": "code",
   "execution_count": null,
   "metadata": {
    "colab": {
     "autoexec": {
      "startup": false,
      "wait_interval": 0
     }
    },
    "colab_type": "code",
    "id": "VvtM7asqtx8E"
   },
   "outputs": [],
   "source": [
    "var jsdom = require(\"jsdom\");"
   ]
  },
  {
   "cell_type": "markdown",
   "metadata": {
    "colab_type": "text",
    "id": "EbH3OzJ3tx8L"
   },
   "source": [
    "Maybe running `npm install -g jsdom` in the Command Prompt will work since I'm on Windows. I tried Cygwin64 earlier. "
   ]
  },
  {
   "cell_type": "code",
   "execution_count": null,
   "metadata": {
    "colab": {
     "autoexec": {
      "startup": false,
      "wait_interval": 0
     }
    },
    "colab_type": "code",
    "id": "0VqWerA2tx8L"
   },
   "outputs": [],
   "source": [
    "var jsdom = require(\"jsdom\");"
   ]
  },
  {
   "cell_type": "markdown",
   "metadata": {
    "colab_type": "text",
    "id": "qks1G-outx8O"
   },
   "source": [
    "Yippie!"
   ]
  },
  {
   "cell_type": "markdown",
   "metadata": {
    "colab_type": "text",
    "id": "88cvot0xtx8P"
   },
   "source": [
    "Back to my javascript example from [stackoverflow](https://stackoverflow.com/questions/43488464/how-to-output-svg-in-a-jupyter-notebook-using-jsdom-d3-and-ijavascript/43514776#43514776) via [github](https://github.com/n-riesco/ijavascript/issues/120). I found some documentation at https://github.com/tmpvar/jsdom, but here is one of the cool things about javascript and python:"
   ]
  },
  {
   "cell_type": "code",
   "execution_count": null,
   "metadata": {
    "colab": {
     "autoexec": {
      "startup": false,
      "wait_interval": 0
     }
    },
    "colab_type": "code",
    "id": "lMro4dBKtx8S"
   },
   "outputs": [],
   "source": [
    "console.log(jsdom);"
   ]
  },
  {
   "cell_type": "markdown",
   "metadata": {
    "colab_type": "text",
    "id": "jzEwcg8stx8V"
   },
   "source": [
    "From that, I can see that the jsdom object has a JSDOM function that I can try calling..."
   ]
  },
  {
   "cell_type": "code",
   "execution_count": null,
   "metadata": {
    "colab": {
     "autoexec": {
      "startup": false,
      "wait_interval": 0
     }
    },
    "colab_type": "code",
    "id": "OyOSVARNtx8X"
   },
   "outputs": [],
   "source": [
    "var my_dom = new jsdom.JSDOM()"
   ]
  },
  {
   "cell_type": "markdown",
   "metadata": {
    "colab_type": "text",
    "id": "tGDIz5brtx8a"
   },
   "source": [
    "That worked. Let's see what's in it: "
   ]
  },
  {
   "cell_type": "code",
   "execution_count": null,
   "metadata": {
    "colab": {
     "autoexec": {
      "startup": false,
      "wait_interval": 0
     }
    },
    "colab_type": "code",
    "id": "eiDk2J77tx8b"
   },
   "outputs": [],
   "source": [
    "console.log(my_dom);"
   ]
  },
  {
   "cell_type": "markdown",
   "metadata": {
    "colab_type": "text",
    "id": "5bRcuwHPtx8f"
   },
   "source": [
    "A JSDOM, how helpful..., but https://github.com/tmpvar/jsdom#jsdom-object-api to the rescue, let's see if we can't crack this nut. "
   ]
  },
  {
   "cell_type": "code",
   "execution_count": null,
   "metadata": {
    "colab": {
     "autoexec": {
      "startup": false,
      "wait_interval": 0
     }
    },
    "colab_type": "code",
    "id": "2wnjeXbOtx8h"
   },
   "outputs": [],
   "source": [
    "console.log(my_dom.window)"
   ]
  },
  {
   "cell_type": "code",
   "execution_count": null,
   "metadata": {
    "colab": {
     "autoexec": {
      "startup": false,
      "wait_interval": 0
     }
    },
    "colab_type": "code",
    "id": "sDVW8j56tx82"
   },
   "outputs": [],
   "source": [
    "my_dom.serialize()"
   ]
  },
  {
   "cell_type": "code",
   "execution_count": null,
   "metadata": {
    "colab": {
     "autoexec": {
      "startup": false,
      "wait_interval": 0
     }
    },
    "colab_type": "code",
    "id": "YfJu8zMvtx87"
   },
   "outputs": [],
   "source": [
    "my_dom"
   ]
  },
  {
   "cell_type": "code",
   "execution_count": null,
   "metadata": {
    "colab": {
     "autoexec": {
      "startup": false,
      "wait_interval": 0
     }
    },
    "colab_type": "code",
    "id": "WIVTaei3tx8_"
   },
   "outputs": [],
   "source": [
    "jsdom.JSDOM.fromURL('https://thwee-alchemist.github.io/fourd.js')"
   ]
  },
  {
   "cell_type": "code",
   "execution_count": null,
   "metadata": {
    "colab": {
     "autoexec": {
      "startup": false,
      "wait_interval": 0
     }
    },
    "colab_type": "code",
    "id": "k680RbOgtx9D"
   },
   "outputs": [],
   "source": [
    "var mydom = jsdom.JSDOM.fromURL('https://thwee-alchemist.github.io/fourd.js/')\n",
    "jsdom"
   ]
  },
  {
   "cell_type": "code",
   "execution_count": null,
   "metadata": {
    "colab": {
     "autoexec": {
      "startup": false,
      "wait_interval": 0
     }
    },
    "colab_type": "code",
    "id": "4SKyYxDCtx9G"
   },
   "outputs": [],
   "source": [
    "fourd_console = new jsdom.VirtualConsole();"
   ]
  },
  {
   "cell_type": "code",
   "execution_count": null,
   "metadata": {
    "colab": {
     "autoexec": {
      "startup": false,
      "wait_interval": 0
     }
    },
    "colab_type": "code",
    "id": "yavJeg3Ftx9M"
   },
   "outputs": [],
   "source": []
  }
 ],
 "metadata": {
  "colab": {
   "collapsed_sections": [
    "StxkPIPtwv-X",
    "6jSV90TNtx1k",
    "cGFXjPI_tx2u",
    "EDqtuWfbug5w"
   ],
   "default_view": {},
   "name": "FourD.js.ipynb",
   "provenance": [],
   "toc_visible": true,
   "version": "0.3.2",
   "views": {}
  },
  "kernelspec": {
   "display_name": "Javascript (Node.js)",
   "language": "javascript",
   "name": "javascript"
  },
  "language_info": {
   "file_extension": ".js",
   "mimetype": "application/javascript",
   "name": "javascript",
   "version": "8.9.4"
  }
 },
 "nbformat": 4,
 "nbformat_minor": 2
}
